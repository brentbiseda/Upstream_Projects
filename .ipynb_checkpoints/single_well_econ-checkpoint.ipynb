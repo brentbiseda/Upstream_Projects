{
 "cells": [
  {
   "cell_type": "code",
   "execution_count": 1,
   "metadata": {},
   "outputs": [],
   "source": [
    "import pandas as pd\n",
    "import Costs\n",
    "import Economics"
   ]
  },
  {
   "cell_type": "code",
   "execution_count": 2,
   "metadata": {},
   "outputs": [],
   "source": [
    "# Load in Type Curve\n",
    "type_well = pd.read_csv(\"./type_curve.csv\")"
   ]
  },
  {
   "cell_type": "code",
   "execution_count": 3,
   "metadata": {},
   "outputs": [],
   "source": [
    "# Load in Well Parameters\n",
    "well_params = pd.read_csv(\"./econ_params.csv\")"
   ]
  },
  {
   "cell_type": "code",
   "execution_count": 4,
   "metadata": {},
   "outputs": [
    {
     "name": "stderr",
     "output_type": "stream",
     "text": [
      "C:\\Users\\brent\\Anaconda3\\lib\\site-packages\\ipykernel_launcher.py:6: FutureWarning: Sorting because non-concatenation axis is not aligned. A future version\n",
      "of pandas will change to not sort by default.\n",
      "\n",
      "To accept the future behavior, pass 'sort=False'.\n",
      "\n",
      "To retain the current behavior and silence the warning, pass 'sort=True'.\n",
      "\n",
      "  \n"
     ]
    }
   ],
   "source": [
    "my_well = pd.merge(type_well, well_params, left_on = \"DATE\", right_on = \"DATE\", how = \"outer\").fillna(method='ffill')\n",
    "my_well['DATE']=pd.to_datetime(my_well['DATE'])\n",
    "# Add 12 Rows for Capital\n",
    "for i in range(12):\n",
    "    a = my_well.loc[1, 'DATE'] -  pd.offsets.MonthBegin()\n",
    "    my_well = pd.concat([pd.DataFrame([{'DATE':a, 'GAS': 0, 'WATER': 0}]), my_well], ignore_index=True).fillna(method='bfill')"
   ]
  },
  {
   "cell_type": "code",
   "execution_count": 5,
   "metadata": {},
   "outputs": [],
   "source": [
    "# Various Parameters\n",
    "\n",
    "FORMATION = \"Utica\"\n",
    "TC_FACTOR = 1.0\n",
    "LATERAL_LENGTH = 9000"
   ]
  },
  {
   "cell_type": "code",
   "execution_count": 6,
   "metadata": {},
   "outputs": [],
   "source": [
    "# Populate Capital\n",
    "def PopulateCapital(well, LATERAL_LENGTH=9000, CAPITAL_FACTOR=1):\n",
    "    costs = Costs.Costs()\n",
    "    well['CAPITAL'] = 0\n",
    "    well.loc[0, 'CAPITAL'] = costs.utica_total_drill(LATERAL_LENGTH) * CAPITAL_FACTOR\n",
    "    well.loc[8, 'CAPITAL'] = costs.utica_total_completion(LATERAL_LENGTH) * CAPITAL_FACTOR\n",
    "    well.loc[10, 'CAPITAL'] = costs.prod_equipment(water_injection = 1) * CAPITAL_FACTOR\n",
    "    well.loc[well.shape[0]-1, 'CAPITAL'] = costs.abandonment() * CAPITAL_FACTOR\n",
    "    well['GAS'] = well['GAS'] * LATERAL_LENGTH/1000 * 365.25/12\n",
    "    well['WATER'] = well['WATER'] * LATERAL_LENGTH/1000 * 365.25/12\n",
    "    return well"
   ]
  },
  {
   "cell_type": "code",
   "execution_count": 7,
   "metadata": {},
   "outputs": [],
   "source": [
    "def CalculateOpex(well):\n",
    "    well['OPEX_TOTAL'] = 0\n",
    "    well['OPEX_TOTAL'] = well['WI'] * (well['FIXED_OPEX'] + (well['VAR_OPEX'] + well['TRANSPORT_GAS']) * well['GAS'] + \\\n",
    "                            well['WATER_OPEX'] * well['WATER'])\n",
    "    return well"
   ]
  },
  {
   "cell_type": "code",
   "execution_count": 8,
   "metadata": {},
   "outputs": [],
   "source": [
    "def CalculateRevenue(well):\n",
    "    well['REVENUE'] = 0\n",
    "    well['REVENUE'] = well['NRI'] * ( well['GAS_PRICE'] + well['GAS_DEDUCT'] ) * well ['BTU'] * \\\n",
    "                        well['SHRINK'] * well['GAS']\n",
    "    return well"
   ]
  },
  {
   "cell_type": "code",
   "execution_count": 9,
   "metadata": {},
   "outputs": [],
   "source": [
    "def CalculateCashflow(well):\n",
    "    #Operating cashflow is not negative.  Well is not operated if negative cashflow\n",
    "    well['OPERATING_CASHFLOW'] = well['REVENUE'] - well['OPEX_TOTAL']\n",
    "    well.loc[well['OPERATING_CASHFLOW'] < 0, 'OPERATING_CASHFLOW'] = 0\n",
    "    well['TOTAL_CASHFLOW'] = well['OPERATING_CASHFLOW'] - well['CAPITAL']\n",
    "    return my_well"
   ]
  },
  {
   "cell_type": "code",
   "execution_count": 10,
   "metadata": {},
   "outputs": [],
   "source": [
    "my_well = PopulateCapital(my_well, LATERAL_LENGTH=9000, CAPITAL_FACTOR=1)"
   ]
  },
  {
   "cell_type": "code",
   "execution_count": 11,
   "metadata": {},
   "outputs": [],
   "source": [
    "my_well = CalculateOpex(my_well)"
   ]
  },
  {
   "cell_type": "code",
   "execution_count": 12,
   "metadata": {},
   "outputs": [],
   "source": [
    "my_well = CalculateRevenue(my_well)"
   ]
  },
  {
   "cell_type": "code",
   "execution_count": 13,
   "metadata": {},
   "outputs": [],
   "source": [
    "my_well = CalculateCashflow(my_well)"
   ]
  },
  {
   "cell_type": "code",
   "execution_count": 14,
   "metadata": {},
   "outputs": [],
   "source": [
    "my_well['ID'] = \"TEST\""
   ]
  },
  {
   "cell_type": "code",
   "execution_count": 15,
   "metadata": {},
   "outputs": [],
   "source": [
    "economics = Economics.Economics()"
   ]
  },
  {
   "cell_type": "code",
   "execution_count": 16,
   "metadata": {},
   "outputs": [],
   "source": [
    "economics.generate_well_economics(my_well)"
   ]
  },
  {
   "cell_type": "code",
   "execution_count": 17,
   "metadata": {},
   "outputs": [
    {
     "data": {
      "text/html": [
       "<div>\n",
       "<style scoped>\n",
       "    .dataframe tbody tr th:only-of-type {\n",
       "        vertical-align: middle;\n",
       "    }\n",
       "\n",
       "    .dataframe tbody tr th {\n",
       "        vertical-align: top;\n",
       "    }\n",
       "\n",
       "    .dataframe thead th {\n",
       "        text-align: right;\n",
       "    }\n",
       "</style>\n",
       "<table border=\"1\" class=\"dataframe\">\n",
       "  <thead>\n",
       "    <tr style=\"text-align: right;\">\n",
       "      <th></th>\n",
       "      <th>ID</th>\n",
       "      <th>NPV</th>\n",
       "      <th>IRR</th>\n",
       "      <th>MOIC</th>\n",
       "      <th>F_D</th>\n",
       "      <th>EUR</th>\n",
       "      <th>CAPITAL</th>\n",
       "      <th>CUM_CASHFLOW</th>\n",
       "      <th>OPEX_TOTAL</th>\n",
       "    </tr>\n",
       "  </thead>\n",
       "  <tbody>\n",
       "    <tr>\n",
       "      <td>0</td>\n",
       "      <td>TEST</td>\n",
       "      <td>996389.664408</td>\n",
       "      <td>0.130381</td>\n",
       "      <td>1.075395</td>\n",
       "      <td>0.58442</td>\n",
       "      <td>1.514618e+07</td>\n",
       "      <td>8.851728e+06</td>\n",
       "      <td>9.519100e+06</td>\n",
       "      <td>9.948197e+06</td>\n",
       "    </tr>\n",
       "  </tbody>\n",
       "</table>\n",
       "</div>"
      ],
      "text/plain": [
       "     ID            NPV       IRR      MOIC      F_D           EUR  \\\n",
       "0  TEST  996389.664408  0.130381  1.075395  0.58442  1.514618e+07   \n",
       "\n",
       "        CAPITAL  CUM_CASHFLOW    OPEX_TOTAL  \n",
       "0  8.851728e+06  9.519100e+06  9.948197e+06  "
      ]
     },
     "execution_count": 17,
     "metadata": {},
     "output_type": "execute_result"
    }
   ],
   "source": [
    "economics.single_well_df"
   ]
  },
  {
   "cell_type": "code",
   "execution_count": null,
   "metadata": {},
   "outputs": [],
   "source": [
    "my_well"
   ]
  },
  {
   "cell_type": "code",
   "execution_count": null,
   "metadata": {},
   "outputs": [],
   "source": [
    "well_params"
   ]
  }
 ],
 "metadata": {
  "kernelspec": {
   "display_name": "Python 3",
   "language": "python",
   "name": "python3"
  },
  "language_info": {
   "codemirror_mode": {
    "name": "ipython",
    "version": 3
   },
   "file_extension": ".py",
   "mimetype": "text/x-python",
   "name": "python",
   "nbconvert_exporter": "python",
   "pygments_lexer": "ipython3",
   "version": "3.7.4"
  }
 },
 "nbformat": 4,
 "nbformat_minor": 2
}
